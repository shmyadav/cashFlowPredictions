{
 "cells": [
  {
   "cell_type": "markdown",
   "id": "f4136221",
   "metadata": {},
   "source": [
    "# Import Libraries"
   ]
  },
  {
   "cell_type": "code",
   "execution_count": 43,
   "id": "a49c324d",
   "metadata": {},
   "outputs": [],
   "source": [
    "import pandas as pd\n",
    "from sklearn.model_selection import train_test_split\n",
    "from sklearn.ensemble import RandomForestRegressor\n",
    "import numpy as np\n",
    "import matplotlib.pyplot as plt\n",
    "from sklearn import metrics\n",
    "from sklearn.model_selection import KFold\n",
    "import numpy as np\n",
    "#from sklearn import preprocessing\n",
    "#min_max_scaler = preprocessing.MinMaxScaler()\n",
    "from sklearn.preprocessing import StandardScaler\n",
    "import statsmodels.api as sm\n",
    "from scipy.stats import norm\n",
    "import pylab\n",
    "from statsmodels.stats.diagnostic import lilliefors\n",
    "\n",
    "path = r\"C:\\Users\\NCBLRL354\\Downloads\\bquxjob_2c985331_17f225d74d4.csv\""
   ]
  },
  {
   "cell_type": "markdown",
   "id": "64eb2e1d",
   "metadata": {},
   "source": [
    "# Read Data"
   ]
  },
  {
   "cell_type": "code",
   "execution_count": 44,
   "id": "9361ad59",
   "metadata": {},
   "outputs": [],
   "source": [
    "df = pd.read_csv(path)\n",
    "df1 = pd.read_csv((r\"D:\\panalytics.csv\"))"
   ]
  },
  {
   "cell_type": "markdown",
   "id": "2d2b335b",
   "metadata": {},
   "source": [
    "# Pre processing"
   ]
  },
  {
   "cell_type": "code",
   "execution_count": 45,
   "id": "e7d299fc",
   "metadata": {},
   "outputs": [],
   "source": [
    "df1 = df1.drop(columns = [\"Unnamed: 0\",\"cfs\"])\n",
    "df = df.drop(columns = [\"predictionsRF\",\"predictionsLinearReg\"])\n",
    "df = df.rename(columns = {\"business_name\":\"fname\"})\n",
    "df = df.replace(0,np.nan)\n",
    "df = df.dropna(subset=['t3','t2','t1','t'])"
   ]
  },
  {
   "cell_type": "markdown",
   "id": "e7d84b53",
   "metadata": {},
   "source": [
    "# Concat"
   ]
  },
  {
   "cell_type": "code",
   "execution_count": 46,
   "id": "2ce1f497",
   "metadata": {},
   "outputs": [
    {
     "data": {
      "text/html": [
       "<div>\n",
       "<style scoped>\n",
       "    .dataframe tbody tr th:only-of-type {\n",
       "        vertical-align: middle;\n",
       "    }\n",
       "\n",
       "    .dataframe tbody tr th {\n",
       "        vertical-align: top;\n",
       "    }\n",
       "\n",
       "    .dataframe thead th {\n",
       "        text-align: right;\n",
       "    }\n",
       "</style>\n",
       "<table border=\"1\" class=\"dataframe\">\n",
       "  <thead>\n",
       "    <tr style=\"text-align: right;\">\n",
       "      <th></th>\n",
       "      <th>fname</th>\n",
       "      <th>t3</th>\n",
       "      <th>t2</th>\n",
       "      <th>t1</th>\n",
       "      <th>t</th>\n",
       "    </tr>\n",
       "  </thead>\n",
       "  <tbody>\n",
       "    <tr>\n",
       "      <th>0</th>\n",
       "      <td>MALNAD CAR CLUB</td>\n",
       "      <td>-506709.00</td>\n",
       "      <td>1375653.00</td>\n",
       "      <td>-569585.00</td>\n",
       "      <td>2454000.00</td>\n",
       "    </tr>\n",
       "    <tr>\n",
       "      <th>1</th>\n",
       "      <td>SAI MURUGAN SILKS</td>\n",
       "      <td>-2800203.73</td>\n",
       "      <td>-6581082.47</td>\n",
       "      <td>-1631823.51</td>\n",
       "      <td>13145166.00</td>\n",
       "    </tr>\n",
       "    <tr>\n",
       "      <th>2</th>\n",
       "      <td>M/S RAHUL TRADERS</td>\n",
       "      <td>-13770987.00</td>\n",
       "      <td>1594963.00</td>\n",
       "      <td>-2417534.00</td>\n",
       "      <td>26965886.00</td>\n",
       "    </tr>\n",
       "    <tr>\n",
       "      <th>3</th>\n",
       "      <td>PARESH TEA  CO PVT LTD</td>\n",
       "      <td>-31193030.00</td>\n",
       "      <td>41009203.00</td>\n",
       "      <td>-3355099.00</td>\n",
       "      <td>56677564.00</td>\n",
       "    </tr>\n",
       "    <tr>\n",
       "      <th>4</th>\n",
       "      <td>VANDAN TRADERS</td>\n",
       "      <td>-945000.00</td>\n",
       "      <td>-26683260.96</td>\n",
       "      <td>27833850.87</td>\n",
       "      <td>478283.65</td>\n",
       "    </tr>\n",
       "    <tr>\n",
       "      <th>...</th>\n",
       "      <td>...</td>\n",
       "      <td>...</td>\n",
       "      <td>...</td>\n",
       "      <td>...</td>\n",
       "      <td>...</td>\n",
       "    </tr>\n",
       "    <tr>\n",
       "      <th>802</th>\n",
       "      <td>D:\\tmp\\1640868325eoulmnyj_81244_123500197_7710...</td>\n",
       "      <td>-1356254.00</td>\n",
       "      <td>257152.00</td>\n",
       "      <td>171123.00</td>\n",
       "      <td>2555167.00</td>\n",
       "    </tr>\n",
       "    <tr>\n",
       "      <th>803</th>\n",
       "      <td>D:\\tmp\\1640882268emwbquqo_81244_123500204_7710...</td>\n",
       "      <td>-41528242.00</td>\n",
       "      <td>23104335.00</td>\n",
       "      <td>-13278801.00</td>\n",
       "      <td>34019205.00</td>\n",
       "    </tr>\n",
       "    <tr>\n",
       "      <th>804</th>\n",
       "      <td>D:\\tmp\\1640882268qyyzfppr_81244_123500204_7710...</td>\n",
       "      <td>-17952143.00</td>\n",
       "      <td>4093730.00</td>\n",
       "      <td>4651868.00</td>\n",
       "      <td>21014686.00</td>\n",
       "    </tr>\n",
       "    <tr>\n",
       "      <th>805</th>\n",
       "      <td>D:\\tmp\\1640883632nnftkhoo_81244_123500213_7710...</td>\n",
       "      <td>-4246590.00</td>\n",
       "      <td>-4837144.00</td>\n",
       "      <td>5809805.00</td>\n",
       "      <td>11834439.00</td>\n",
       "    </tr>\n",
       "    <tr>\n",
       "      <th>806</th>\n",
       "      <td>D:\\tmp\\1642492021cndhqzjf_81244_123497313_7710...</td>\n",
       "      <td>-33568906.15</td>\n",
       "      <td>9321966.20</td>\n",
       "      <td>-7301059.39</td>\n",
       "      <td>49127923.32</td>\n",
       "    </tr>\n",
       "  </tbody>\n",
       "</table>\n",
       "<p>8385 rows × 5 columns</p>\n",
       "</div>"
      ],
      "text/plain": [
       "                                                 fname           t3  \\\n",
       "0                                      MALNAD CAR CLUB   -506709.00   \n",
       "1                                    SAI MURUGAN SILKS  -2800203.73   \n",
       "2                                    M/S RAHUL TRADERS -13770987.00   \n",
       "3                               PARESH TEA  CO PVT LTD -31193030.00   \n",
       "4                                       VANDAN TRADERS   -945000.00   \n",
       "..                                                 ...          ...   \n",
       "802  D:\\tmp\\1640868325eoulmnyj_81244_123500197_7710...  -1356254.00   \n",
       "803  D:\\tmp\\1640882268emwbquqo_81244_123500204_7710... -41528242.00   \n",
       "804  D:\\tmp\\1640882268qyyzfppr_81244_123500204_7710... -17952143.00   \n",
       "805  D:\\tmp\\1640883632nnftkhoo_81244_123500213_7710...  -4246590.00   \n",
       "806  D:\\tmp\\1642492021cndhqzjf_81244_123497313_7710... -33568906.15   \n",
       "\n",
       "              t2           t1            t  \n",
       "0     1375653.00   -569585.00   2454000.00  \n",
       "1    -6581082.47  -1631823.51  13145166.00  \n",
       "2     1594963.00  -2417534.00  26965886.00  \n",
       "3    41009203.00  -3355099.00  56677564.00  \n",
       "4   -26683260.96  27833850.87    478283.65  \n",
       "..           ...          ...          ...  \n",
       "802    257152.00    171123.00   2555167.00  \n",
       "803  23104335.00 -13278801.00  34019205.00  \n",
       "804   4093730.00   4651868.00  21014686.00  \n",
       "805  -4837144.00   5809805.00  11834439.00  \n",
       "806   9321966.20  -7301059.39  49127923.32  \n",
       "\n",
       "[8385 rows x 5 columns]"
      ]
     },
     "execution_count": 46,
     "metadata": {},
     "output_type": "execute_result"
    }
   ],
   "source": [
    "df_c = pd.concat([df,df1])\n",
    "df_c"
   ]
  },
  {
   "cell_type": "markdown",
   "id": "7c52f67b",
   "metadata": {},
   "source": [
    "# Data normality test (lilliefors test)"
   ]
  },
  {
   "cell_type": "code",
   "execution_count": 47,
   "id": "18f31fd4",
   "metadata": {
    "scrolled": true
   },
   "outputs": [
    {
     "data": {
      "text/plain": [
       "(0.3980051114286762, 0.0009999999999998899)"
      ]
     },
     "execution_count": 47,
     "metadata": {},
     "output_type": "execute_result"
    }
   ],
   "source": [
    "lilliefors(df_c.t)"
   ]
  },
  {
   "cell_type": "code",
   "execution_count": 48,
   "id": "b54b6b6e",
   "metadata": {},
   "outputs": [
    {
     "data": {
      "text/plain": [
       "(0.3334217014006653, 0.0009999999999998899)"
      ]
     },
     "execution_count": 48,
     "metadata": {},
     "output_type": "execute_result"
    }
   ],
   "source": [
    "lilliefors(df_c.t1)"
   ]
  },
  {
   "cell_type": "code",
   "execution_count": 49,
   "id": "1a02d3d6",
   "metadata": {},
   "outputs": [
    {
     "data": {
      "text/plain": [
       "(0.35390880991078294, 0.0009999999999998899)"
      ]
     },
     "execution_count": 49,
     "metadata": {},
     "output_type": "execute_result"
    }
   ],
   "source": [
    "lilliefors(df_c.t2)"
   ]
  },
  {
   "cell_type": "code",
   "execution_count": 50,
   "id": "3447ffb9",
   "metadata": {},
   "outputs": [
    {
     "data": {
      "text/plain": [
       "(0.3774613682291933, 0.0009999999999998899)"
      ]
     },
     "execution_count": 50,
     "metadata": {},
     "output_type": "execute_result"
    }
   ],
   "source": [
    "lilliefors(df_c.t3)"
   ]
  },
  {
   "cell_type": "code",
   "execution_count": 51,
   "id": "a123f23a",
   "metadata": {
    "scrolled": true
   },
   "outputs": [
    {
     "data": {
      "text/plain": [
       "<AxesSubplot:ylabel='Density'>"
      ]
     },
     "execution_count": 51,
     "metadata": {},
     "output_type": "execute_result"
    },
    {
     "data": {
      "image/png": "[encoded data removed]",
      "text/plain": [
       "<Figure size 432x288 with 1 Axes>"
      ]
     },
     "metadata": {
      "needs_background": "light"
     },
     "output_type": "display_data"
    }
   ],
   "source": [
    "df_c[\"t\"].plot(kind = \"density\")"
   ]
  },
  {
   "cell_type": "markdown",
   "id": "7f81a29e",
   "metadata": {},
   "source": [
    "# Outlier Analysis"
   ]
  },
  {
   "cell_type": "code",
   "execution_count": 52,
   "id": "17e0834f",
   "metadata": {},
   "outputs": [
    {
     "name": "stdout",
     "output_type": "stream",
     "text": [
      "Highest t allowed 785342953.8496411\n",
      "Lowest t allowed -706987960.8270633\n",
      "Highest t1 allowed 188595304.0470349\n",
      "Lowest t1 allowed -178268976.90498552\n",
      "Highest t2 allowed 188446493.62358376\n",
      "Lowest t2 allowed -186013115.90854582\n",
      "Highest t3 allowed 436963627.2731088\n",
      "Lowest t3 allowed -478240394.7046898\n"
     ]
    }
   ],
   "source": [
    "print(\"Highest t allowed\",df_c['t'].mean() + 3*df_c['t'].std())\n",
    "print(\"Lowest t allowed\",df_c['t'].mean() - 3*df_c['t'].std())\n",
    "\n",
    "h_t = df_c['t'].mean() + 3*df_c['t'].std()\n",
    "l_t = df_c['t'].mean() - 3*df_c['t'].std()\n",
    "\n",
    "print(\"Highest t1 allowed\",df_c['t1'].mean() + 3*df_c['t1'].std())\n",
    "print(\"Lowest t1 allowed\",df_c['t1'].mean() - 3*df_c['t1'].std())\n",
    "\n",
    "h_t1 = df_c['t1'].mean() + 3*df_c['t1'].std()\n",
    "l_t1 = df_c['t1'].mean() - 3*df_c['t1'].std()\n",
    "\n",
    "\n",
    "print(\"Highest t2 allowed\",df_c['t2'].mean() + 3*df_c['t2'].std())\n",
    "print(\"Lowest t2 allowed\",df_c['t2'].mean() - 3*df_c['t2'].std())\n",
    "\n",
    "h_t2 = df_c['t2'].mean() + 3*df_c['t2'].std()\n",
    "l_t2 = df_c['t2'].mean() - 3*df_c['t2'].std()\n",
    "\n",
    "print(\"Highest t3 allowed\",df_c['t3'].mean() + 3*df_c['t3'].std())\n",
    "print(\"Lowest t3 allowed\",df_c['t3'].mean() - 3*df_c['t3'].std())\n",
    "\n",
    "h_t3 = df_c['t3'].mean() + 3*df_c['t3'].std()\n",
    "l_t3 = df_c['t3'].mean() - 3*df_c['t3'].std()"
   ]
  },
  {
   "cell_type": "markdown",
   "id": "d9559de8",
   "metadata": {},
   "source": [
    "# Outlier Removal"
   ]
  },
  {
   "cell_type": "code",
   "execution_count": 53,
   "id": "e039240b",
   "metadata": {},
   "outputs": [],
   "source": [
    "df_c = df_c[(df_c.t <h_t)&(df_c.t> l_t)]\n",
    "df_c = df_c[(df_c.t1 <h_t1)&(df_c.t1> l_t1)]\n",
    "df_c = df_c[(df_c.t2 <h_t2)&(df_c.t2> l_t2)]\n",
    "df_c = df_c[(df_c.t3 <h_t3)&(df_c.t3> l_t3)]"
   ]
  },
  {
   "cell_type": "code",
   "execution_count": 54,
   "id": "fc10e014",
   "metadata": {},
   "outputs": [],
   "source": [
    "scaler = StandardScaler()"
   ]
  },
  {
   "cell_type": "code",
   "execution_count": 55,
   "id": "94981b6b",
   "metadata": {},
   "outputs": [],
   "source": [
    "dfs = pd.DataFrame(scaler.fit_transform(df_c[['t3',\"t2\",\"t1\",\"t\"]]),columns=['t3',\"t2\",\"t1\",\"t\"])"
   ]
  },
  {
   "cell_type": "code",
   "execution_count": 56,
   "id": "cf703bd8",
   "metadata": {},
   "outputs": [],
   "source": [
    "#resering index\n",
    "df_c = df_c.reset_index(drop = True)"
   ]
  },
  {
   "cell_type": "code",
   "execution_count": 57,
   "id": "c1dd78d5",
   "metadata": {},
   "outputs": [],
   "source": [
    "#Replacing values in original concatonated data\n",
    "df_c[['t3',\"t2\",\"t1\",\"t\"]] = dfs[['t3',\"t2\",\"t1\",\"t\"]]"
   ]
  },
  {
   "cell_type": "code",
   "execution_count": 58,
   "id": "151e7d89",
   "metadata": {},
   "outputs": [],
   "source": [
    "def inverse_transform(df):\n",
    "    return pd.DataFrame(scaler.inverse_transform(df[['t3',\"t2\",\"t1\",\"t\"]]),columns = ['t3',\"t2\",\"t1\",\"t\"])"
   ]
  },
  {
   "cell_type": "markdown",
   "id": "455c09b7",
   "metadata": {},
   "source": [
    "# Training and Testing Model"
   ]
  },
  {
   "cell_type": "code",
   "execution_count": 59,
   "id": "98a54b09",
   "metadata": {},
   "outputs": [],
   "source": [
    "from sklearn.svm import SVR\n",
    "clf = SVR(kernel=\"linear\", C=100, gamma=\"auto\")"
   ]
  },
  {
   "cell_type": "code",
   "execution_count": 60,
   "id": "2e676fc3",
   "metadata": {},
   "outputs": [
    {
     "data": {
      "text/plain": [
       "SVR(C=100, gamma='auto', kernel='linear')"
      ]
     },
     "execution_count": 60,
     "metadata": {},
     "output_type": "execute_result"
    }
   ],
   "source": [
    "clf"
   ]
  },
  {
   "cell_type": "code",
   "execution_count": 61,
   "id": "8007c7ab",
   "metadata": {},
   "outputs": [],
   "source": [
    "X = df_c[['t3',\"t2\",\"t1\"]]\n",
    "y = df_c.t\n",
    "X_train, X_test, y_train, y_test = train_test_split(X, y,test_size= 0.2)"
   ]
  },
  {
   "cell_type": "code",
   "execution_count": 62,
   "id": "543d543d",
   "metadata": {
    "scrolled": true
   },
   "outputs": [
    {
     "data": {
      "text/plain": [
       "SVR(C=100, gamma='auto', kernel='linear')"
      ]
     },
     "execution_count": 62,
     "metadata": {},
     "output_type": "execute_result"
    }
   ],
   "source": [
    "clf.fit(X_train, y_train)"
   ]
  },
  {
   "cell_type": "code",
   "execution_count": 63,
   "id": "7af2c901",
   "metadata": {},
   "outputs": [
    {
     "data": {
      "text/plain": [
       "array([-0.239608  , -0.37579216, -0.28451592, ..., -0.25350846,\n",
       "       -0.39270203, -0.30960842])"
      ]
     },
     "execution_count": 63,
     "metadata": {},
     "output_type": "execute_result"
    }
   ],
   "source": [
    "preds = clf.predict(X_test)\n",
    "preds"
   ]
  },
  {
   "cell_type": "code",
   "execution_count": 64,
   "id": "6f8d910a",
   "metadata": {},
   "outputs": [
    {
     "data": {
      "text/plain": [
       "2299   -0.312309\n",
       "5708   -0.398665\n",
       "7510   -0.413916\n",
       "8120   -0.096289\n",
       "5215   -0.240440\n",
       "          ...   \n",
       "3886    0.162787\n",
       "1443   -0.308480\n",
       "2501   -0.344656\n",
       "1980   -0.424352\n",
       "4092   -0.381860\n",
       "Name: t, Length: 1641, dtype: float64"
      ]
     },
     "execution_count": 64,
     "metadata": {},
     "output_type": "execute_result"
    }
   ],
   "source": [
    "y_test"
   ]
  },
  {
   "cell_type": "code",
   "execution_count": 65,
   "id": "a188acec",
   "metadata": {},
   "outputs": [],
   "source": [
    "def inverse_transform_results_preds(X_test,y_test,preds):\n",
    "    X_test = X_test.reset_index(drop=True)\n",
    "    X_test['t'] = y_test.reset_index(drop=True)\n",
    "    df1 = pd.DataFrame(scaler.inverse_transform(X_test),columns = ['t3',\"t2\",\"t1\",\"t\"])\n",
    "    X_test['t'] = preds\n",
    "    df2 = pd.DataFrame(scaler.inverse_transform(X_test),columns = ['t3',\"t2\",\"t1\",\"t\"])\n",
    "    df1[\"preds\"] = df2.t\n",
    "    return df1"
   ]
  },
  {
   "cell_type": "code",
   "execution_count": 66,
   "id": "8a46528b",
   "metadata": {
    "scrolled": true
   },
   "outputs": [],
   "source": [
    "df_r = inverse_transform_results_preds(X_test,y_test,preds)"
   ]
  },
  {
   "cell_type": "code",
   "execution_count": 67,
   "id": "903873b8",
   "metadata": {},
   "outputs": [
    {
     "data": {
      "text/html": [
       "<div>\n",
       "<style scoped>\n",
       "    .dataframe tbody tr th:only-of-type {\n",
       "        vertical-align: middle;\n",
       "    }\n",
       "\n",
       "    .dataframe tbody tr th {\n",
       "        vertical-align: top;\n",
       "    }\n",
       "\n",
       "    .dataframe thead th {\n",
       "        text-align: right;\n",
       "    }\n",
       "</style>\n",
       "<table border=\"1\" class=\"dataframe\">\n",
       "  <thead>\n",
       "    <tr style=\"text-align: right;\">\n",
       "      <th></th>\n",
       "      <th>t3</th>\n",
       "      <th>t2</th>\n",
       "      <th>t1</th>\n",
       "      <th>t</th>\n",
       "      <th>preds</th>\n",
       "    </tr>\n",
       "  </thead>\n",
       "  <tbody>\n",
       "    <tr>\n",
       "      <th>0</th>\n",
       "      <td>-698263.12</td>\n",
       "      <td>-638779.06</td>\n",
       "      <td>105389.58</td>\n",
       "      <td>3.784278e+06</td>\n",
       "      <td>8.233550e+06</td>\n",
       "    </tr>\n",
       "    <tr>\n",
       "      <th>1</th>\n",
       "      <td>1533246.00</td>\n",
       "      <td>5151100.00</td>\n",
       "      <td>4427194.00</td>\n",
       "      <td>-1.500654e+06</td>\n",
       "      <td>-1.008552e+05</td>\n",
       "    </tr>\n",
       "    <tr>\n",
       "      <th>2</th>\n",
       "      <td>474762.00</td>\n",
       "      <td>30678.00</td>\n",
       "      <td>1838368.00</td>\n",
       "      <td>-2.434027e+06</td>\n",
       "      <td>5.485206e+06</td>\n",
       "    </tr>\n",
       "    <tr>\n",
       "      <th>3</th>\n",
       "      <td>-7950985.74</td>\n",
       "      <td>-2374894.78</td>\n",
       "      <td>4154308.74</td>\n",
       "      <td>1.700458e+07</td>\n",
       "      <td>1.596161e+07</td>\n",
       "    </tr>\n",
       "    <tr>\n",
       "      <th>4</th>\n",
       "      <td>14339164.00</td>\n",
       "      <td>-34384983.00</td>\n",
       "      <td>19812978.77</td>\n",
       "      <td>8.182621e+06</td>\n",
       "      <td>-1.688070e+06</td>\n",
       "    </tr>\n",
       "    <tr>\n",
       "      <th>...</th>\n",
       "      <td>...</td>\n",
       "      <td>...</td>\n",
       "      <td>...</td>\n",
       "      <td>...</td>\n",
       "      <td>...</td>\n",
       "    </tr>\n",
       "    <tr>\n",
       "      <th>1636</th>\n",
       "      <td>-13241774.58</td>\n",
       "      <td>-9927682.23</td>\n",
       "      <td>-41154.18</td>\n",
       "      <td>3.285995e+07</td>\n",
       "      <td>2.898606e+07</td>\n",
       "    </tr>\n",
       "    <tr>\n",
       "      <th>1637</th>\n",
       "      <td>-43068.00</td>\n",
       "      <td>-1046540.00</td>\n",
       "      <td>1818665.00</td>\n",
       "      <td>4.018627e+06</td>\n",
       "      <td>6.742058e+06</td>\n",
       "    </tr>\n",
       "    <tr>\n",
       "      <th>1638</th>\n",
       "      <td>-376042.00</td>\n",
       "      <td>-130569.58</td>\n",
       "      <td>417266.08</td>\n",
       "      <td>1.804684e+06</td>\n",
       "      <td>7.382848e+06</td>\n",
       "    </tr>\n",
       "    <tr>\n",
       "      <th>1639</th>\n",
       "      <td>3306014.32</td>\n",
       "      <td>4887513.30</td>\n",
       "      <td>2569812.31</td>\n",
       "      <td>-3.072692e+06</td>\n",
       "      <td>-1.135731e+06</td>\n",
       "    </tr>\n",
       "    <tr>\n",
       "      <th>1640</th>\n",
       "      <td>-2447402.76</td>\n",
       "      <td>6075750.32</td>\n",
       "      <td>5020671.39</td>\n",
       "      <td>-4.721846e+05</td>\n",
       "      <td>3.949557e+06</td>\n",
       "    </tr>\n",
       "  </tbody>\n",
       "</table>\n",
       "<p>1641 rows × 5 columns</p>\n",
       "</div>"
      ],
      "text/plain": [
       "               t3           t2           t1             t         preds\n",
       "0      -698263.12   -638779.06    105389.58  3.784278e+06  8.233550e+06\n",
       "1      1533246.00   5151100.00   4427194.00 -1.500654e+06 -1.008552e+05\n",
       "2       474762.00     30678.00   1838368.00 -2.434027e+06  5.485206e+06\n",
       "3     -7950985.74  -2374894.78   4154308.74  1.700458e+07  1.596161e+07\n",
       "4     14339164.00 -34384983.00  19812978.77  8.182621e+06 -1.688070e+06\n",
       "...           ...          ...          ...           ...           ...\n",
       "1636 -13241774.58  -9927682.23    -41154.18  3.285995e+07  2.898606e+07\n",
       "1637    -43068.00  -1046540.00   1818665.00  4.018627e+06  6.742058e+06\n",
       "1638   -376042.00   -130569.58    417266.08  1.804684e+06  7.382848e+06\n",
       "1639   3306014.32   4887513.30   2569812.31 -3.072692e+06 -1.135731e+06\n",
       "1640  -2447402.76   6075750.32   5020671.39 -4.721846e+05  3.949557e+06\n",
       "\n",
       "[1641 rows x 5 columns]"
      ]
     },
     "execution_count": 67,
     "metadata": {},
     "output_type": "execute_result"
    }
   ],
   "source": [
    "df_r"
   ]
  },
  {
   "cell_type": "code",
   "execution_count": 68,
   "id": "62c5aaa7",
   "metadata": {
    "scrolled": false
   },
   "outputs": [
    {
     "data": {
      "text/plain": [
       "0.7135834822637754"
      ]
     },
     "execution_count": 68,
     "metadata": {},
     "output_type": "execute_result"
    }
   ],
   "source": [
    "from sklearn.metrics import r2_score\n",
    "r2 = r2_score(df_r.t, df_r.preds)\n",
    "r2"
   ]
  },
  {
   "cell_type": "code",
   "execution_count": 69,
   "id": "92285416",
   "metadata": {},
   "outputs": [
    {
     "data": {
      "text/plain": [
       "0.7135834822637754"
      ]
     },
     "execution_count": 69,
     "metadata": {},
     "output_type": "execute_result"
    }
   ],
   "source": [
    "# if this r2 is same as above inverse transformation is working right\n",
    "from sklearn.metrics import r2_score\n",
    "r2 = r2_score(y_test, preds)\n",
    "r2"
   ]
  },
  {
   "cell_type": "code",
   "execution_count": 41,
   "id": "9eafa990",
   "metadata": {},
   "outputs": [
    {
     "data": {
      "text/plain": [
       "<AxesSubplot:>"
      ]
     },
     "execution_count": 41,
     "metadata": {},
     "output_type": "execute_result"
    },
    {
     "data": {
      "image/png": "[encoded data removed]",
      "text/plain": [
       "<Figure size 432x288 with 1 Axes>"
      ]
     },
     "metadata": {
      "needs_background": "light"
     },
     "output_type": "display_data"
    }
   ],
   "source": [
    "df_r.t.plot()"
   ]
  },
  {
   "cell_type": "code",
   "execution_count": 42,
   "id": "8d3e4d76",
   "metadata": {
    "scrolled": true
   },
   "outputs": [
    {
     "data": {
      "text/plain": [
       "<AxesSubplot:>"
      ]
     },
     "execution_count": 42,
     "metadata": {},
     "output_type": "execute_result"
    },
    {
     "data": {
      "image/png": "[encoded data removed]",
      "text/plain": [
       "<Figure size 432x288 with 1 Axes>"
      ]
     },
     "metadata": {
      "needs_background": "light"
     },
     "output_type": "display_data"
    }
   ],
   "source": [
    "df_r.preds.plot()"
   ]
  },
  {
   "cell_type": "markdown",
   "id": "3eb4cb4b",
   "metadata": {},
   "source": [
    "# Simple Neural Networks"
   ]
  },
  {
   "cell_type": "code",
   "execution_count": 685,
   "id": "0157695d",
   "metadata": {},
   "outputs": [],
   "source": [
    "import math\n",
    "import pandas as pd\n",
    "import tensorflow as tf\n",
    "import matplotlib.pyplot as plt\n",
    "from tensorflow.keras import Model\n",
    "from tensorflow.keras import Sequential\n",
    "from tensorflow.keras.optimizers import Adam\n",
    "from sklearn.preprocessing import StandardScaler\n",
    "from tensorflow.keras.layers import Dense, Dropout\n",
    "from sklearn.model_selection import train_test_split\n",
    "from tensorflow.keras.losses import MeanSquaredLogarithmicError"
   ]
  },
  {
   "cell_type": "markdown",
   "id": "d921175d",
   "metadata": {},
   "source": [
    "# Building Model"
   ]
  },
  {
   "cell_type": "code",
   "execution_count": 686,
   "id": "16522974",
   "metadata": {},
   "outputs": [],
   "source": [
    "hidden_units1 = 160\n",
    "hidden_units2 = 480\n",
    "hidden_units3 = 256\n",
    "learning_rate = 0.01\n",
    "# Creating model using the Sequential in tensorflow\n",
    "def build_model_using_sequential():\n",
    "  model = Sequential([\n",
    "    Dense(hidden_units1, kernel_initializer='normal', activation='relu'),\n",
    "    Dropout(0.2),\n",
    "    Dense(hidden_units2, kernel_initializer='normal', activation='relu'),\n",
    "    Dropout(0.2),\n",
    "    Dense(hidden_units3, kernel_initializer='normal', activation='relu'),\n",
    "    Dropout(0.2),\n",
    "    Dense(1, kernel_initializer='normal', activation='linear'),\n",
    "    Dropout(0.2)\n",
    "  ])\n",
    "  return model\n",
    "# build the model\n",
    "model = build_model_using_sequential()"
   ]
  },
  {
   "cell_type": "markdown",
   "id": "61152bdf",
   "metadata": {},
   "source": [
    "# Setting Loss Function"
   ]
  },
  {
   "cell_type": "code",
   "execution_count": 687,
   "id": "20e82b48",
   "metadata": {},
   "outputs": [],
   "source": [
    "X = df_c[['t3',\"t2\",\"t1\"]]\n",
    "y = df_c.t\n",
    "X_train, X_test, y_train, y_test = train_test_split(X, y,test_size= 0.1)"
   ]
  },
  {
   "cell_type": "code",
   "execution_count": 688,
   "id": "19b51588",
   "metadata": {
    "scrolled": true
   },
   "outputs": [
    {
     "name": "stdout",
     "output_type": "stream",
     "text": [
      "Epoch 1/10\n",
      "361/361 [==============================] - 2s 5ms/step - loss: 0.1530 - mean_squared_logarithmic_error: 0.1527 - val_loss: 0.1469 - val_mean_squared_logarithmic_error: 0.1454\n",
      "Epoch 2/10\n",
      "361/361 [==============================] - 2s 5ms/step - loss: 0.1533 - mean_squared_logarithmic_error: 0.1530 - val_loss: 0.1469 - val_mean_squared_logarithmic_error: 0.1454\n",
      "Epoch 3/10\n",
      "361/361 [==============================] - 2s 4ms/step - loss: 0.1533 - mean_squared_logarithmic_error: 0.1532 - val_loss: 0.1469 - val_mean_squared_logarithmic_error: 0.1454\n",
      "Epoch 4/10\n",
      "361/361 [==============================] - 2s 5ms/step - loss: 0.1533 - mean_squared_logarithmic_error: 0.1550 - val_loss: 0.1469 - val_mean_squared_logarithmic_error: 0.1454\n",
      "Epoch 5/10\n",
      "361/361 [==============================] - 2s 4ms/step - loss: 0.1533 - mean_squared_logarithmic_error: 0.1531 - val_loss: 0.1469 - val_mean_squared_logarithmic_error: 0.1454\n",
      "Epoch 6/10\n",
      "361/361 [==============================] - 2s 5ms/step - loss: 0.1533 - mean_squared_logarithmic_error: 0.1530 - val_loss: 0.1469 - val_mean_squared_logarithmic_error: 0.1454\n",
      "Epoch 7/10\n",
      "361/361 [==============================] - 2s 5ms/step - loss: 0.1533 - mean_squared_logarithmic_error: 0.1530 - val_loss: 0.1469 - val_mean_squared_logarithmic_error: 0.1454\n",
      "Epoch 8/10\n",
      "361/361 [==============================] - 2s 5ms/step - loss: 0.1533 - mean_squared_logarithmic_error: 0.1530 - val_loss: 0.1469 - val_mean_squared_logarithmic_error: 0.1454\n",
      "Epoch 9/10\n",
      "361/361 [==============================] - 2s 5ms/step - loss: 0.1533 - mean_squared_logarithmic_error: 0.1541 - val_loss: 0.1469 - val_mean_squared_logarithmic_error: 0.1454\n",
      "Epoch 10/10\n",
      "361/361 [==============================] - 2s 6ms/step - loss: 0.1533 - mean_squared_logarithmic_error: 0.1534 - val_loss: 0.1469 - val_mean_squared_logarithmic_error: 0.1454\n"
     ]
    }
   ],
   "source": [
    "# loss function\n",
    "msle = MeanSquaredLogarithmicError()\n",
    "model.compile(\n",
    "    loss=msle, \n",
    "    optimizer=Adam(learning_rate=learning_rate), \n",
    "    metrics=[msle]\n",
    ")\n",
    "# train the model\n",
    "history = model.fit(\n",
    "    X_train, \n",
    "    y_train, \n",
    "    epochs=10, \n",
    "    batch_size=16,\n",
    "    validation_split=0.2\n",
    ")"
   ]
  },
  {
   "cell_type": "code",
   "execution_count": 689,
   "id": "10fc0498",
   "metadata": {},
   "outputs": [],
   "source": [
    "preds = model.predict(X_test)"
   ]
  },
  {
   "cell_type": "code",
   "execution_count": 693,
   "id": "39d559dc",
   "metadata": {},
   "outputs": [
    {
     "data": {
      "text/plain": [
       "5184    2.221523\n",
       "7580   -0.237377\n",
       "1479   -0.414052\n",
       "5061   -0.144525\n",
       "5287   -0.384481\n",
       "          ...   \n",
       "4457   -0.230562\n",
       "1130   -0.495545\n",
       "2709   -0.196543\n",
       "4867    1.447501\n",
       "1902   -0.210113\n",
       "Name: t, Length: 801, dtype: float64"
      ]
     },
     "execution_count": 693,
     "metadata": {},
     "output_type": "execute_result"
    }
   ],
   "source": [
    "y_test"
   ]
  },
  {
   "cell_type": "code",
   "execution_count": 691,
   "id": "c99ca836",
   "metadata": {},
   "outputs": [
    {
     "data": {
      "text/plain": [
       "array([[ -20.855267 ],\n",
       "       [ -19.080822 ],\n",
       "       [  -9.421783 ],\n",
       "       [  -7.3680944],\n",
       "       [  -9.405987 ],\n",
       "       [  -9.0738735],\n",
       "       [ -14.730392 ],\n",
       "       [  -9.468772 ],\n",
       "       [  -7.7501287],\n",
       "       [  -7.7528963],\n",
       "       [ -10.835547 ],\n",
       "       [ -11.598635 ],\n",
       "       [ -11.693205 ],\n",
       "       [ -11.620976 ],\n",
       "       [  -9.608858 ],\n",
       "       [  -9.591774 ],\n",
       "       [ -18.12954  ],\n",
       "       [ -18.280157 ],\n",
       "       [  -9.055664 ],\n",
       "       [  -8.879978 ],\n",
       "       [  -7.763968 ],\n",
       "       [  -8.760403 ],\n",
       "       [  -8.404985 ],\n",
       "       [ -25.338919 ],\n",
       "       [ -33.80461  ],\n",
       "       [  -9.908052 ],\n",
       "       [ -10.034223 ],\n",
       "       [  -7.01532  ],\n",
       "       [  -9.718874 ],\n",
       "       [  -9.357206 ],\n",
       "       [  -6.05991  ],\n",
       "       [ -11.61669  ],\n",
       "       [  -8.365034 ],\n",
       "       [ -15.555387 ],\n",
       "       [  -8.614773 ],\n",
       "       [  -6.2595463],\n",
       "       [  -9.824421 ],\n",
       "       [  -9.383749 ],\n",
       "       [ -10.406304 ],\n",
       "       [  -9.259548 ],\n",
       "       [ -15.5214   ],\n",
       "       [ -10.533876 ],\n",
       "       [ -81.39757  ],\n",
       "       [  -8.288425 ],\n",
       "       [  -9.166441 ],\n",
       "       [  -7.0071096],\n",
       "       [ -30.408443 ],\n",
       "       [  -9.626963 ],\n",
       "       [ -18.965717 ],\n",
       "       [  -5.7581277],\n",
       "       [ -15.541757 ],\n",
       "       [ -44.61192  ],\n",
       "       [ -10.346474 ],\n",
       "       [ -12.6235485],\n",
       "       [ -11.722572 ],\n",
       "       [  -8.534818 ],\n",
       "       [ -10.035042 ],\n",
       "       [  -9.198906 ],\n",
       "       [  -9.425726 ],\n",
       "       [ -21.233742 ],\n",
       "       [  -9.76981  ],\n",
       "       [  -9.926659 ],\n",
       "       [ -10.025656 ],\n",
       "       [  -8.763878 ],\n",
       "       [ -11.607864 ],\n",
       "       [ -14.971763 ],\n",
       "       [  -9.800386 ],\n",
       "       [ -10.9183445],\n",
       "       [  -8.9158745],\n",
       "       [ -10.541441 ],\n",
       "       [ -10.857342 ],\n",
       "       [  -9.495081 ],\n",
       "       [ -18.238567 ],\n",
       "       [  -9.595915 ],\n",
       "       [  -9.903303 ],\n",
       "       [  -9.660759 ],\n",
       "       [ -10.078975 ],\n",
       "       [  -9.69422  ],\n",
       "       [  -9.762378 ],\n",
       "       [  -9.038654 ],\n",
       "       [  -6.3204527],\n",
       "       [  -7.488413 ],\n",
       "       [ -14.995266 ],\n",
       "       [  -8.723557 ],\n",
       "       [  -8.430969 ],\n",
       "       [ -10.6588   ],\n",
       "       [  -8.75388  ],\n",
       "       [ -15.507097 ],\n",
       "       [  -9.455083 ],\n",
       "       [  -9.533756 ],\n",
       "       [ -21.384624 ],\n",
       "       [ -10.161686 ],\n",
       "       [ -12.852514 ],\n",
       "       [  -9.903967 ],\n",
       "       [  -7.1328077],\n",
       "       [  -9.822465 ],\n",
       "       [ -11.953507 ],\n",
       "       [  -7.571523 ],\n",
       "       [ -13.292512 ],\n",
       "       [  -6.8686247],\n",
       "       [  -9.844727 ],\n",
       "       [ -13.585797 ],\n",
       "       [ -10.042717 ],\n",
       "       [  -9.375587 ],\n",
       "       [ -10.280873 ],\n",
       "       [  -7.7566996],\n",
       "       [ -10.649743 ],\n",
       "       [ -11.705252 ],\n",
       "       [ -11.118392 ],\n",
       "       [  -9.458298 ],\n",
       "       [ -17.720722 ],\n",
       "       [  -9.643415 ],\n",
       "       [  -9.168068 ],\n",
       "       [ -45.44339  ],\n",
       "       [  -8.675949 ],\n",
       "       [ -16.50808  ],\n",
       "       [  -9.600953 ],\n",
       "       [  -9.301533 ],\n",
       "       [  -9.954651 ],\n",
       "       [  -9.740486 ],\n",
       "       [ -25.774734 ],\n",
       "       [ -10.686716 ],\n",
       "       [  -9.336566 ],\n",
       "       [  -8.774005 ],\n",
       "       [  -9.453564 ],\n",
       "       [ -10.700573 ],\n",
       "       [ -10.703126 ],\n",
       "       [  -8.259891 ],\n",
       "       [  -7.37746  ],\n",
       "       [ -10.025703 ],\n",
       "       [  -4.5684566],\n",
       "       [ -10.341054 ],\n",
       "       [ -13.264101 ],\n",
       "       [  -8.262585 ],\n",
       "       [ -13.538333 ],\n",
       "       [  -9.667452 ],\n",
       "       [  -8.791113 ],\n",
       "       [  -9.9951   ],\n",
       "       [  -9.062117 ],\n",
       "       [  -7.440757 ],\n",
       "       [ -10.52132  ],\n",
       "       [ -29.122986 ],\n",
       "       [  -9.804815 ],\n",
       "       [ -11.267379 ],\n",
       "       [  -9.212721 ],\n",
       "       [  -7.537916 ],\n",
       "       [ -11.259549 ],\n",
       "       [  -9.75354  ],\n",
       "       [  -9.54364  ],\n",
       "       [  -9.811094 ],\n",
       "       [ -10.371185 ],\n",
       "       [  -9.678346 ],\n",
       "       [  -5.2470565],\n",
       "       [ -10.638781 ],\n",
       "       [ -12.325276 ],\n",
       "       [ -15.145414 ],\n",
       "       [  -8.945789 ],\n",
       "       [  -8.504395 ],\n",
       "       [  -8.54947  ],\n",
       "       [ -10.881712 ],\n",
       "       [  -9.05925  ],\n",
       "       [  -9.910866 ],\n",
       "       [  -8.213443 ],\n",
       "       [  -9.794558 ],\n",
       "       [  -9.800336 ],\n",
       "       [ -10.544155 ],\n",
       "       [ -11.231411 ],\n",
       "       [  -9.766932 ],\n",
       "       [  -9.916298 ],\n",
       "       [  -9.819208 ],\n",
       "       [  -9.96566  ],\n",
       "       [  -9.462527 ],\n",
       "       [ -21.880428 ],\n",
       "       [  -8.287933 ],\n",
       "       [  -9.202166 ],\n",
       "       [  -9.566221 ],\n",
       "       [  -9.865982 ],\n",
       "       [  -9.0451   ],\n",
       "       [  -9.230898 ],\n",
       "       [ -10.366881 ],\n",
       "       [  -9.357527 ],\n",
       "       [ -10.780681 ],\n",
       "       [  -9.450695 ],\n",
       "       [  -7.4026537],\n",
       "       [ -17.387552 ],\n",
       "       [ -16.474812 ],\n",
       "       [ -35.639668 ],\n",
       "       [  -8.757299 ],\n",
       "       [  -9.876818 ],\n",
       "       [  -8.089407 ],\n",
       "       [  -9.840033 ],\n",
       "       [ -10.194457 ],\n",
       "       [  -8.838465 ],\n",
       "       [ -10.123735 ],\n",
       "       [  -9.632051 ],\n",
       "       [  -9.734896 ],\n",
       "       [  -7.5933323],\n",
       "       [ -10.064473 ],\n",
       "       [  -6.262681 ],\n",
       "       [ -10.050939 ],\n",
       "       [  -7.253948 ],\n",
       "       [ -28.641455 ],\n",
       "       [  -8.579521 ],\n",
       "       [  -8.945711 ],\n",
       "       [ -11.858818 ],\n",
       "       [  -6.87747  ],\n",
       "       [ -10.04859  ],\n",
       "       [ -11.520017 ],\n",
       "       [  -5.9968276],\n",
       "       [  -9.973032 ],\n",
       "       [  -9.829804 ],\n",
       "       [  -9.568717 ],\n",
       "       [ -10.374985 ],\n",
       "       [ -12.375995 ],\n",
       "       [  -8.269127 ],\n",
       "       [  -7.4884853],\n",
       "       [  -9.774235 ],\n",
       "       [  -9.123362 ],\n",
       "       [  -9.597039 ],\n",
       "       [  -7.564864 ],\n",
       "       [ -10.524748 ],\n",
       "       [  -8.262164 ],\n",
       "       [  -9.869873 ],\n",
       "       [ -13.860051 ],\n",
       "       [  -9.353664 ],\n",
       "       [ -11.634035 ],\n",
       "       [  -9.848153 ],\n",
       "       [  -6.1501794],\n",
       "       [ -11.263314 ],\n",
       "       [ -11.469979 ],\n",
       "       [  -9.930878 ],\n",
       "       [  -8.850567 ],\n",
       "       [  -5.095028 ],\n",
       "       [  -9.745001 ],\n",
       "       [  -5.552226 ],\n",
       "       [  -5.9541416],\n",
       "       [  -9.81345  ],\n",
       "       [  -5.3202596],\n",
       "       [  -7.927025 ],\n",
       "       [ -11.8985   ],\n",
       "       [ -10.623156 ],\n",
       "       [ -10.147998 ],\n",
       "       [  -9.810995 ],\n",
       "       [  -9.6958   ],\n",
       "       [ -23.917091 ],\n",
       "       [ -16.795704 ],\n",
       "       [  -9.837491 ],\n",
       "       [ -10.035337 ],\n",
       "       [  -8.934762 ],\n",
       "       [  -6.0736732],\n",
       "       [ -18.664383 ],\n",
       "       [ -18.414658 ],\n",
       "       [  -8.232317 ],\n",
       "       [ -12.09004  ],\n",
       "       [  -9.620304 ],\n",
       "       [  -9.71697  ],\n",
       "       [  -9.81976  ],\n",
       "       [  -6.415243 ],\n",
       "       [  -9.751813 ],\n",
       "       [ -10.0101795],\n",
       "       [ -15.365068 ],\n",
       "       [ -11.068172 ],\n",
       "       [ -18.173195 ],\n",
       "       [  -9.556536 ],\n",
       "       [  -9.920731 ],\n",
       "       [ -14.852467 ],\n",
       "       [ -11.40132  ],\n",
       "       [ -43.39812  ],\n",
       "       [  -9.776847 ],\n",
       "       [  -7.8923464],\n",
       "       [  -8.701784 ],\n",
       "       [ -13.567459 ],\n",
       "       [ -31.875551 ],\n",
       "       [ -10.080204 ],\n",
       "       [ -10.840105 ],\n",
       "       [  -9.629854 ],\n",
       "       [ -11.501097 ],\n",
       "       [ -14.093681 ],\n",
       "       [  -6.0229635],\n",
       "       [ -13.79345  ],\n",
       "       [  -9.042038 ],\n",
       "       [ -18.883892 ],\n",
       "       [  -8.119946 ],\n",
       "       [  -9.635279 ],\n",
       "       [  -8.588599 ],\n",
       "       [ -14.820789 ],\n",
       "       [ -10.477682 ],\n",
       "       [  -9.986519 ],\n",
       "       [ -11.106036 ],\n",
       "       [  -8.870202 ],\n",
       "       [  -4.7079806],\n",
       "       [ -12.518587 ],\n",
       "       [  -7.7251453],\n",
       "       [  -8.7321615],\n",
       "       [  -9.758871 ],\n",
       "       [  -4.9439545],\n",
       "       [  -4.950404 ],\n",
       "       [  -9.722754 ],\n",
       "       [  -9.642646 ],\n",
       "       [ -10.23698  ],\n",
       "       [  -8.514641 ],\n",
       "       [ -19.664019 ],\n",
       "       [ -10.301081 ],\n",
       "       [ -10.849857 ],\n",
       "       [ -11.174503 ],\n",
       "       [  -9.682267 ],\n",
       "       [  -7.6129827],\n",
       "       [  -9.750717 ],\n",
       "       [  -9.993465 ],\n",
       "       [  -8.097953 ],\n",
       "       [ -18.020077 ],\n",
       "       [ -10.798988 ],\n",
       "       [ -12.380436 ],\n",
       "       [  -9.731735 ],\n",
       "       [  -9.654085 ],\n",
       "       [  -8.450403 ],\n",
       "       [ -10.231266 ],\n",
       "       [ -10.885666 ],\n",
       "       [  -9.70594  ],\n",
       "       [ -11.313169 ],\n",
       "       [  -9.282664 ],\n",
       "       [  -8.005808 ],\n",
       "       [  -6.9125767],\n",
       "       [  -8.18543  ],\n",
       "       [  -9.608717 ],\n",
       "       [ -10.282366 ],\n",
       "       [  -7.5049357],\n",
       "       [ -10.244257 ],\n",
       "       [  -9.491728 ],\n",
       "       [  -9.945995 ],\n",
       "       [  -9.796873 ],\n",
       "       [  -9.666335 ],\n",
       "       [  -9.430557 ],\n",
       "       [  -4.9591837],\n",
       "       [  -5.3414316],\n",
       "       [  -8.241967 ],\n",
       "       [ -11.968639 ],\n",
       "       [ -19.537632 ],\n",
       "       [ -42.822887 ],\n",
       "       [  -6.296388 ],\n",
       "       [  -8.7837   ],\n",
       "       [ -10.463628 ],\n",
       "       [  -9.73987  ],\n",
       "       [ -13.155567 ],\n",
       "       [  -9.729006 ],\n",
       "       [  -9.084328 ],\n",
       "       [  -5.4694004],\n",
       "       [ -12.141474 ],\n",
       "       [  -9.712332 ],\n",
       "       [ -14.288735 ],\n",
       "       [ -10.457093 ],\n",
       "       [  -5.154313 ],\n",
       "       [  -9.510113 ],\n",
       "       [  -9.754502 ],\n",
       "       [  -9.925898 ],\n",
       "       [  -9.072454 ],\n",
       "       [ -11.531171 ],\n",
       "       [  -9.681112 ],\n",
       "       [  -9.823366 ],\n",
       "       [ -10.420498 ],\n",
       "       [  -9.967794 ],\n",
       "       [  -9.405255 ],\n",
       "       [  -9.138521 ],\n",
       "       [  -9.217505 ],\n",
       "       [  -9.985036 ],\n",
       "       [  -9.258736 ],\n",
       "       [  -8.658443 ],\n",
       "       [  -9.551875 ],\n",
       "       [  -9.733642 ],\n",
       "       [ -16.054045 ],\n",
       "       [  -9.399396 ],\n",
       "       [  -9.430606 ],\n",
       "       [  -9.603295 ],\n",
       "       [  -9.600927 ],\n",
       "       [ -25.178003 ],\n",
       "       [  -9.815135 ],\n",
       "       [  -8.238896 ],\n",
       "       [  -9.799736 ],\n",
       "       [  -6.9476814],\n",
       "       [  -9.536001 ],\n",
       "       [ -50.19765  ],\n",
       "       [  -7.610141 ],\n",
       "       [  -7.9058843],\n",
       "       [  -9.102996 ],\n",
       "       [ -14.553137 ],\n",
       "       [  -9.834603 ],\n",
       "       [  -9.590261 ],\n",
       "       [  -9.564102 ],\n",
       "       [  -8.981379 ],\n",
       "       [  -5.449087 ],\n",
       "       [  -9.699881 ],\n",
       "       [  -9.639568 ],\n",
       "       [  -9.944487 ],\n",
       "       [  -8.664362 ],\n",
       "       [ -12.273413 ],\n",
       "       [  -9.5388565],\n",
       "       [ -33.75713  ],\n",
       "       [ -11.361851 ],\n",
       "       [ -10.171867 ],\n",
       "       [  -9.768751 ],\n",
       "       [  -6.7144785],\n",
       "       [ -18.313057 ],\n",
       "       [  -9.857229 ],\n",
       "       [  -9.471714 ],\n",
       "       [ -10.988764 ],\n",
       "       [  -5.5852127],\n",
       "       [  -9.562984 ],\n",
       "       [  -9.714476 ],\n",
       "       [  -9.714581 ],\n",
       "       [  -6.628803 ],\n",
       "       [  -8.758918 ],\n",
       "       [ -11.732063 ],\n",
       "       [  -7.214222 ],\n",
       "       [  -7.8445973],\n",
       "       [ -10.019989 ],\n",
       "       [ -26.540163 ],\n",
       "       [ -10.150923 ],\n",
       "       [  -8.080691 ],\n",
       "       [  -7.3567896],\n",
       "       [ -25.487778 ],\n",
       "       [  -9.698265 ],\n",
       "       [  -6.9911366],\n",
       "       [  -9.274581 ],\n",
       "       [  -9.137399 ],\n",
       "       [  -7.1927977],\n",
       "       [ -12.910336 ],\n",
       "       [  -6.4477577],\n",
       "       [ -10.042345 ],\n",
       "       [  -6.315284 ],\n",
       "       [ -20.667637 ],\n",
       "       [  -8.115829 ],\n",
       "       [  -9.864833 ],\n",
       "       [ -10.207206 ],\n",
       "       [  -9.762803 ],\n",
       "       [  -4.753537 ],\n",
       "       [ -10.315756 ],\n",
       "       [  -9.892967 ],\n",
       "       [  -9.490566 ],\n",
       "       [  -9.72803  ],\n",
       "       [  -8.774005 ],\n",
       "       [ -33.19723  ],\n",
       "       [  -9.728867 ],\n",
       "       [  -9.541048 ],\n",
       "       [  -7.4928675],\n",
       "       [ -10.147184 ],\n",
       "       [  -9.902594 ],\n",
       "       [  -9.5522175],\n",
       "       [  -9.806555 ],\n",
       "       [  -9.973214 ],\n",
       "       [ -13.5876045],\n",
       "       [ -11.278313 ],\n",
       "       [ -10.468331 ],\n",
       "       [ -10.950816 ],\n",
       "       [  -9.693985 ],\n",
       "       [ -12.26116  ],\n",
       "       [ -13.033779 ],\n",
       "       [ -11.474123 ],\n",
       "       [  -9.550042 ],\n",
       "       [  -9.734356 ],\n",
       "       [  -8.005595 ],\n",
       "       [  -5.9224486],\n",
       "       [  -9.396696 ],\n",
       "       [ -48.698933 ],\n",
       "       [  -7.8807654],\n",
       "       [  -9.772182 ],\n",
       "       [  -9.02852  ],\n",
       "       [ -10.123775 ],\n",
       "       [  -9.298333 ],\n",
       "       [  -5.20183  ],\n",
       "       [  -7.192646 ],\n",
       "       [ -10.169966 ],\n",
       "       [ -12.300602 ],\n",
       "       [ -10.373062 ],\n",
       "       [ -12.582937 ],\n",
       "       [ -25.940346 ],\n",
       "       [  -7.429017 ],\n",
       "       [  -9.468102 ],\n",
       "       [  -9.861061 ],\n",
       "       [  -9.735965 ],\n",
       "       [  -9.682945 ],\n",
       "       [  -9.587406 ],\n",
       "       [  -6.958453 ],\n",
       "       [  -9.718983 ],\n",
       "       [ -10.3827915],\n",
       "       [ -10.271072 ],\n",
       "       [  -8.8284   ],\n",
       "       [  -6.8556337],\n",
       "       [  -8.238768 ],\n",
       "       [ -11.178065 ],\n",
       "       [  -9.032252 ],\n",
       "       [  -6.0736732],\n",
       "       [ -30.016659 ],\n",
       "       [ -10.399714 ],\n",
       "       [  -9.739941 ],\n",
       "       [ -13.44548  ],\n",
       "       [  -9.599899 ],\n",
       "       [ -10.3674755],\n",
       "       [  -9.722637 ],\n",
       "       [  -9.932011 ],\n",
       "       [  -9.023325 ],\n",
       "       [  -9.852535 ],\n",
       "       [  -8.332264 ],\n",
       "       [ -47.333927 ],\n",
       "       [ -12.219987 ],\n",
       "       [  -9.516015 ],\n",
       "       [ -16.800236 ],\n",
       "       [  -8.846672 ],\n",
       "       [  -9.608188 ],\n",
       "       [  -7.794678 ],\n",
       "       [  -8.529786 ],\n",
       "       [  -9.871008 ],\n",
       "       [  -9.899834 ],\n",
       "       [  -9.5408   ],\n",
       "       [  -9.798145 ],\n",
       "       [  -8.6555   ],\n",
       "       [  -9.594046 ],\n",
       "       [  -9.340255 ],\n",
       "       [ -10.258825 ],\n",
       "       [  -9.78313  ],\n",
       "       [ -51.392017 ],\n",
       "       [  -6.5747976],\n",
       "       [  -8.222429 ],\n",
       "       [  -9.679321 ],\n",
       "       [  -8.894188 ],\n",
       "       [  -9.870806 ],\n",
       "       [ -12.809962 ],\n",
       "       [  -9.913744 ],\n",
       "       [ -14.201156 ],\n",
       "       [  -9.737662 ],\n",
       "       [  -9.886356 ],\n",
       "       [  -9.496407 ],\n",
       "       [  -5.8018727],\n",
       "       [  -9.768467 ],\n",
       "       [ -25.466805 ],\n",
       "       [ -11.740322 ],\n",
       "       [  -9.752094 ],\n",
       "       [  -8.207889 ],\n",
       "       [ -12.078463 ],\n",
       "       [ -20.866451 ],\n",
       "       [  -9.648586 ],\n",
       "       [  -8.771708 ],\n",
       "       [  -9.584841 ],\n",
       "       [  -8.342312 ],\n",
       "       [ -30.269812 ],\n",
       "       [  -9.665885 ],\n",
       "       [ -10.010372 ],\n",
       "       [  -9.849953 ],\n",
       "       [ -15.688513 ],\n",
       "       [  -8.997097 ],\n",
       "       [  -8.809431 ],\n",
       "       [ -15.61328  ],\n",
       "       [  -8.543707 ],\n",
       "       [  -7.6357594],\n",
       "       [  -9.778444 ],\n",
       "       [ -10.11793  ],\n",
       "       [  -5.6707554],\n",
       "       [  -6.714814 ],\n",
       "       [  -9.057278 ],\n",
       "       [ -11.345401 ],\n",
       "       [  -6.7970457],\n",
       "       [  -8.23555  ],\n",
       "       [  -9.785466 ],\n",
       "       [ -11.741702 ],\n",
       "       [  -9.300743 ],\n",
       "       [  -8.125813 ],\n",
       "       [ -12.683996 ],\n",
       "       [  -5.9033227],\n",
       "       [  -6.2251053],\n",
       "       [  -9.3164215],\n",
       "       [  -9.7853775],\n",
       "       [  -8.831485 ],\n",
       "       [  -6.3939314],\n",
       "       [  -8.874942 ],\n",
       "       [ -12.93774  ],\n",
       "       [ -10.354036 ],\n",
       "       [ -10.8552475],\n",
       "       [ -10.616162 ],\n",
       "       [  -9.555797 ],\n",
       "       [  -8.674244 ],\n",
       "       [  -9.772935 ],\n",
       "       [  -7.4229507],\n",
       "       [  -8.41717  ],\n",
       "       [  -8.667719 ],\n",
       "       [ -25.272007 ],\n",
       "       [ -17.15038  ],\n",
       "       [  -9.495146 ],\n",
       "       [  -9.668886 ],\n",
       "       [ -14.0416155],\n",
       "       [ -15.855528 ],\n",
       "       [  -5.9625707],\n",
       "       [ -10.108015 ],\n",
       "       [  -9.684322 ],\n",
       "       [ -27.358625 ],\n",
       "       [ -48.24926  ],\n",
       "       [  -8.168688 ],\n",
       "       [-105.50793  ],\n",
       "       [  -9.6988125],\n",
       "       [  -9.446968 ],\n",
       "       [  -9.760706 ],\n",
       "       [  -9.1572895],\n",
       "       [ -10.234499 ],\n",
       "       [  -9.837591 ],\n",
       "       [  -9.241837 ],\n",
       "       [  -5.247094 ],\n",
       "       [  -7.184965 ],\n",
       "       [  -8.101702 ],\n",
       "       [ -12.435591 ],\n",
       "       [  -9.6169615],\n",
       "       [  -9.540503 ],\n",
       "       [ -10.7007065],\n",
       "       [ -10.409985 ],\n",
       "       [  -9.736115 ],\n",
       "       [  -9.83404  ],\n",
       "       [ -20.158804 ],\n",
       "       [ -10.859352 ],\n",
       "       [  -8.638566 ],\n",
       "       [ -22.035004 ],\n",
       "       [  -8.169059 ],\n",
       "       [  -9.248001 ],\n",
       "       [  -9.205942 ],\n",
       "       [  -4.6349955],\n",
       "       [  -9.821793 ],\n",
       "       [ -10.338624 ],\n",
       "       [ -13.980412 ],\n",
       "       [ -10.952156 ],\n",
       "       [  -7.8902645],\n",
       "       [  -5.6014204],\n",
       "       [  -9.893455 ],\n",
       "       [  -5.6880493],\n",
       "       [  -9.240068 ],\n",
       "       [  -7.974371 ],\n",
       "       [  -8.298179 ],\n",
       "       [ -10.358148 ],\n",
       "       [  -5.340228 ],\n",
       "       [ -11.424562 ],\n",
       "       [  -8.675794 ],\n",
       "       [  -9.745612 ],\n",
       "       [  -9.647558 ],\n",
       "       [ -10.275251 ],\n",
       "       [  -9.794613 ],\n",
       "       [ -73.198395 ],\n",
       "       [  -9.497439 ],\n",
       "       [ -19.284506 ],\n",
       "       [  -9.231005 ],\n",
       "       [  -9.259567 ],\n",
       "       [  -9.65831  ],\n",
       "       [  -9.6502905],\n",
       "       [  -7.1703854],\n",
       "       [  -9.931185 ],\n",
       "       [  -8.798288 ],\n",
       "       [  -9.656907 ],\n",
       "       [  -8.939881 ],\n",
       "       [ -10.735416 ],\n",
       "       [  -9.661407 ],\n",
       "       [  -9.886503 ],\n",
       "       [ -22.257633 ],\n",
       "       [  -8.661039 ],\n",
       "       [ -13.808962 ],\n",
       "       [ -10.819228 ],\n",
       "       [  -6.9818387],\n",
       "       [  -8.188778 ],\n",
       "       [  -9.83713  ],\n",
       "       [  -8.190839 ],\n",
       "       [  -7.666628 ],\n",
       "       [ -43.826275 ],\n",
       "       [  -9.049803 ],\n",
       "       [ -12.305231 ],\n",
       "       [  -8.444893 ],\n",
       "       [  -8.87686  ],\n",
       "       [  -9.783114 ],\n",
       "       [  -8.297888 ],\n",
       "       [ -12.44034  ],\n",
       "       [  -8.415527 ],\n",
       "       [ -13.033779 ],\n",
       "       [  -9.681908 ],\n",
       "       [  -5.8369555],\n",
       "       [  -9.790945 ],\n",
       "       [  -9.53741  ],\n",
       "       [  -8.440265 ],\n",
       "       [  -9.403418 ],\n",
       "       [ -12.90485  ],\n",
       "       [ -12.08371  ],\n",
       "       [ -10.858299 ],\n",
       "       [ -21.23758  ],\n",
       "       [  -7.5042906],\n",
       "       [  -8.129499 ],\n",
       "       [  -8.229301 ],\n",
       "       [  -9.698864 ],\n",
       "       [  -7.137188 ],\n",
       "       [ -10.669757 ],\n",
       "       [ -10.284054 ],\n",
       "       [  -9.911383 ],\n",
       "       [  -9.786116 ],\n",
       "       [  -9.731305 ],\n",
       "       [  -9.704021 ],\n",
       "       [  -9.706604 ],\n",
       "       [ -12.298067 ],\n",
       "       [  -9.316205 ],\n",
       "       [ -11.84243  ],\n",
       "       [ -10.410568 ],\n",
       "       [  -7.6691732],\n",
       "       [  -9.378536 ],\n",
       "       [  -5.578764 ],\n",
       "       [ -14.029102 ],\n",
       "       [  -9.4554825],\n",
       "       [ -10.788195 ],\n",
       "       [  -9.903853 ],\n",
       "       [  -7.8266973],\n",
       "       [  -6.129798 ],\n",
       "       [  -9.746112 ],\n",
       "       [ -10.188499 ],\n",
       "       [  -5.713568 ],\n",
       "       [  -4.730658 ],\n",
       "       [ -12.035765 ],\n",
       "       [  -6.5542593],\n",
       "       [ -10.006157 ],\n",
       "       [ -12.496703 ],\n",
       "       [  -9.798859 ],\n",
       "       [  -9.562903 ],\n",
       "       [  -9.4266815],\n",
       "       [ -10.644764 ],\n",
       "       [ -70.30795  ],\n",
       "       [  -8.59643  ],\n",
       "       [  -8.676843 ],\n",
       "       [ -15.6023445],\n",
       "       [  -5.087028 ],\n",
       "       [  -9.060257 ],\n",
       "       [ -11.581179 ],\n",
       "       [  -5.0324516],\n",
       "       [  -9.795985 ],\n",
       "       [  -9.620655 ],\n",
       "       [  -7.190382 ],\n",
       "       [ -10.478594 ],\n",
       "       [  -7.818716 ],\n",
       "       [ -10.0092125],\n",
       "       [ -15.045794 ],\n",
       "       [  -8.933228 ],\n",
       "       [  -9.563024 ],\n",
       "       [ -47.20245  ],\n",
       "       [ -10.853686 ],\n",
       "       [  -7.9133153],\n",
       "       [ -10.001632 ],\n",
       "       [  -7.046277 ],\n",
       "       [ -13.254599 ],\n",
       "       [  -9.274166 ],\n",
       "       [ -18.580154 ],\n",
       "       [ -10.358394 ],\n",
       "       [ -12.844399 ],\n",
       "       [  -6.7769747],\n",
       "       [  -8.880796 ],\n",
       "       [  -6.821411 ],\n",
       "       [ -24.129625 ],\n",
       "       [  -9.436273 ],\n",
       "       [ -10.284297 ],\n",
       "       [ -25.019655 ],\n",
       "       [ -11.551697 ],\n",
       "       [  -9.738128 ],\n",
       "       [  -9.458057 ],\n",
       "       [ -10.251112 ],\n",
       "       [  -8.129928 ],\n",
       "       [ -11.01787  ],\n",
       "       [ -10.205751 ],\n",
       "       [  -9.309919 ],\n",
       "       [  -9.580896 ],\n",
       "       [  -9.8693695],\n",
       "       [  -9.486078 ],\n",
       "       [  -6.9384694],\n",
       "       [ -12.111889 ],\n",
       "       [  -9.943694 ],\n",
       "       [  -9.752029 ],\n",
       "       [ -10.3571415],\n",
       "       [ -10.804892 ],\n",
       "       [  -8.023304 ],\n",
       "       [  -4.8965006],\n",
       "       [  -9.410278 ],\n",
       "       [  -8.175275 ],\n",
       "       [ -14.290647 ],\n",
       "       [ -11.482714 ],\n",
       "       [ -10.373446 ],\n",
       "       [ -10.099543 ],\n",
       "       [  -9.749466 ],\n",
       "       [ -17.901983 ],\n",
       "       [  -6.7131658],\n",
       "       [ -10.586554 ],\n",
       "       [  -7.368596 ],\n",
       "       [  -9.047546 ],\n",
       "       [  -9.767445 ],\n",
       "       [  -7.2584705],\n",
       "       [  -9.650124 ],\n",
       "       [  -9.6562   ],\n",
       "       [  -8.99883  ],\n",
       "       [ -23.052591 ],\n",
       "       [  -9.42607  ],\n",
       "       [ -11.19126  ],\n",
       "       [  -6.968999 ],\n",
       "       [ -22.679739 ],\n",
       "       [  -9.445959 ],\n",
       "       [ -13.829985 ],\n",
       "       [ -11.422518 ],\n",
       "       [  -5.9443645],\n",
       "       [  -9.791499 ]], dtype=float32)"
      ]
     },
     "execution_count": 691,
     "metadata": {},
     "output_type": "execute_result"
    }
   ],
   "source": [
    "preds"
   ]
  },
  {
   "cell_type": "code",
   "execution_count": 692,
   "id": "ff0dcaed",
   "metadata": {},
   "outputs": [
    {
     "data": {
      "text/plain": [
       "-175.50643685262108"
      ]
     },
     "execution_count": 692,
     "metadata": {},
     "output_type": "execute_result"
    }
   ],
   "source": [
    "from sklearn.metrics import r2_score\n",
    "r2 = r2_score(y_test, preds)\n",
    "r2"
   ]
  },
  {
   "cell_type": "markdown",
   "id": "d1d2c831",
   "metadata": {},
   "source": [
    "# Linear Regression"
   ]
  },
  {
   "cell_type": "code",
   "execution_count": 154,
   "id": "faf06485",
   "metadata": {},
   "outputs": [],
   "source": [
    "import numpy as np\n",
    "from sklearn.linear_model import LinearRegression"
   ]
  },
  {
   "cell_type": "code",
   "execution_count": 155,
   "id": "ea35173f",
   "metadata": {},
   "outputs": [
    {
     "data": {
      "text/plain": [
       "LinearRegression()"
      ]
     },
     "execution_count": 155,
     "metadata": {},
     "output_type": "execute_result"
    }
   ],
   "source": [
    "regr = LinearRegression()\n",
    "  \n",
    "regr.fit(X_train, y_train)"
   ]
  },
  {
   "cell_type": "code",
   "execution_count": 156,
   "id": "82afe007",
   "metadata": {},
   "outputs": [
    {
     "name": "stdout",
     "output_type": "stream",
     "text": [
      "Mean Absolute Error: 29984806.328877944\n",
      "Mean Squared Error: 1.2939032562517898e+16\n",
      "Root Mean Squared Error: 113749868.40659596\n",
      "0.4795020199244542\n"
     ]
    }
   ],
   "source": [
    "\n",
    "y_pred = regr.predict(X_test)\n",
    "print('Mean Absolute Error:', metrics.mean_absolute_error(y_test, y_pred))\n",
    "print('Mean Squared Error:', metrics.mean_squared_error(y_test, y_pred))\n",
    "print('Root Mean Squared Error:', np.sqrt(metrics.mean_squared_error(y_test, y_pred)))\n",
    "r2 = r2_score(y_test, y_pred)\n",
    "print(r2)"
   ]
  },
  {
   "cell_type": "code",
   "execution_count": null,
   "id": "13ba3621",
   "metadata": {},
   "outputs": [],
   "source": [
    "re"
   ]
  }
 ],
 "metadata": {
  "kernelspec": {
   "display_name": "Python 3 (ipykernel)",
   "language": "python",
   "name": "python3"
  },
  "language_info": {
   "codemirror_mode": {
    "name": "ipython",
    "version": 3
   },
   "file_extension": ".py",
   "mimetype": "text/x-python",
   "name": "python",
   "nbconvert_exporter": "python",
   "pygments_lexer": "ipython3",
   "version": "3.9.7"
  }
 },
 "nbformat": 4,
 "nbformat_minor": 5
}
